{
 "cells": [
  {
   "cell_type": "markdown",
   "metadata": {
    "id": "t4vmy9UGGDE_"
   },
   "source": [
    "# Load Data"
   ]
  },
  {
   "cell_type": "markdown",
   "metadata": {
    "id": "DQ7p1I-xbfE-"
   },
   "source": [
    "## Connect to Google Drive\n",
    "\n",
    "First thing first, connect this Google Colab project to Google Drive.\n",
    "\n",
    "Run the code below to connect them."
   ]
  },
  {
   "cell_type": "code",
   "execution_count": 25,
   "metadata": {
    "ExecuteTime": {
     "end_time": "2019-01-12T02:28:26.067339Z",
     "start_time": "2019-01-12T02:28:25.657870Z"
    },
    "executionInfo": {
     "elapsed": 3632,
     "status": "ok",
     "timestamp": 1601447483398,
     "user": {
      "displayName": "dharani prasad",
      "photoUrl": "https://lh3.googleusercontent.com/a-/AOh14GgN9_kPLO1MCS96ISn_bJdMbJdcdYoeu8PTzadI=s64",
      "userId": "16107398116480146260"
     },
     "user_tz": -330
    },
    "id": "L1CIqN0PGDFv"
   },
   "outputs": [],
   "source": [
    "import pandas as pd\n",
    "\n",
    "data = pd.read_csv('train.csv')"
   ]
  },
  {
   "cell_type": "markdown",
   "metadata": {
    "id": "8SPTfBMOGDGF"
   },
   "source": [
    "## Displaying the Data\n",
    "\n",
    "After the data has been sucessfully read, we can display different aspects of the data programmatically."
   ]
  },
  {
   "cell_type": "markdown",
   "metadata": {
    "id": "8INTYS7DaCF2"
   },
   "source": [
    "Below is a snippet code to output the numbers of (row, column)"
   ]
  },
  {
   "cell_type": "code",
   "execution_count": 26,
   "metadata": {
    "ExecuteTime": {
     "end_time": "2019-01-12T02:28:26.167477Z",
     "start_time": "2019-01-12T02:28:26.161840Z"
    },
    "colab": {
     "base_uri": "https://localhost:8080/",
     "height": 35
    },
    "executionInfo": {
     "elapsed": 1309,
     "status": "ok",
     "timestamp": 1601447491309,
     "user": {
      "displayName": "dharani prasad",
      "photoUrl": "https://lh3.googleusercontent.com/a-/AOh14GgN9_kPLO1MCS96ISn_bJdMbJdcdYoeu8PTzadI=s64",
      "userId": "16107398116480146260"
     },
     "user_tz": -330
    },
    "id": "yQ-oclyEGDGU",
    "outputId": "6dc2f311-d001-4a66-b965-eb9bd3cb3fe1"
   },
   "outputs": [
    {
     "data": {
      "text/plain": [
       "(38932, 5)"
      ]
     },
     "execution_count": 26,
     "metadata": {},
     "output_type": "execute_result"
    }
   ],
   "source": [
    "data.shape"
   ]
  },
  {
   "cell_type": "markdown",
   "metadata": {
    "id": "QI6Pt4m-aKFe"
   },
   "source": [
    "Below is a snippet code to output a `n` random of row(s)"
   ]
  },
  {
   "cell_type": "code",
   "execution_count": 27,
   "metadata": {
    "ExecuteTime": {
     "end_time": "2019-01-12T02:28:26.940688Z",
     "start_time": "2019-01-12T02:28:26.920105Z"
    },
    "colab": {
     "base_uri": "https://localhost:8080/",
     "height": 198
    },
    "executionInfo": {
     "elapsed": 6795,
     "status": "ok",
     "timestamp": 1601447503010,
     "user": {
      "displayName": "dharani prasad",
      "photoUrl": "https://lh3.googleusercontent.com/a-/AOh14GgN9_kPLO1MCS96ISn_bJdMbJdcdYoeu8PTzadI=s64",
      "userId": "16107398116480146260"
     },
     "user_tz": -330
    },
    "id": "1JfN1FAVGDHO",
    "outputId": "27b9b159-4bc8-4b31-be3a-c0c3ceb68675"
   },
   "outputs": [
    {
     "data": {
      "text/html": [
       "<div>\n",
       "<style scoped>\n",
       "    .dataframe tbody tr th:only-of-type {\n",
       "        vertical-align: middle;\n",
       "    }\n",
       "\n",
       "    .dataframe tbody tr th {\n",
       "        vertical-align: top;\n",
       "    }\n",
       "\n",
       "    .dataframe thead th {\n",
       "        text-align: right;\n",
       "    }\n",
       "</style>\n",
       "<table border=\"1\" class=\"dataframe\">\n",
       "  <thead>\n",
       "    <tr style=\"text-align: right;\">\n",
       "      <th></th>\n",
       "      <th>User_ID</th>\n",
       "      <th>Description</th>\n",
       "      <th>Browser_Used</th>\n",
       "      <th>Device_Used</th>\n",
       "      <th>Is_Response</th>\n",
       "    </tr>\n",
       "  </thead>\n",
       "  <tbody>\n",
       "    <tr>\n",
       "      <th>26002</th>\n",
       "      <td>id36328</td>\n",
       "      <td>Interesting Hotel ... The location and views o...</td>\n",
       "      <td>Edge</td>\n",
       "      <td>Desktop</td>\n",
       "      <td>not happy</td>\n",
       "    </tr>\n",
       "    <tr>\n",
       "      <th>38708</th>\n",
       "      <td>id49034</td>\n",
       "      <td>great location \\nbest service\\nthe suite are v...</td>\n",
       "      <td>Google Chrome</td>\n",
       "      <td>Mobile</td>\n",
       "      <td>happy</td>\n",
       "    </tr>\n",
       "    <tr>\n",
       "      <th>25695</th>\n",
       "      <td>id36021</td>\n",
       "      <td>Lucky to have stayed there during our visit to...</td>\n",
       "      <td>Mozilla Firefox</td>\n",
       "      <td>Mobile</td>\n",
       "      <td>happy</td>\n",
       "    </tr>\n",
       "    <tr>\n",
       "      <th>38818</th>\n",
       "      <td>id49144</td>\n",
       "      <td>After reading a few of the reviews of this hot...</td>\n",
       "      <td>InternetExplorer</td>\n",
       "      <td>Mobile</td>\n",
       "      <td>happy</td>\n",
       "    </tr>\n",
       "    <tr>\n",
       "      <th>29811</th>\n",
       "      <td>id40137</td>\n",
       "      <td>We love boutique hotels until we stayed at the...</td>\n",
       "      <td>Firefox</td>\n",
       "      <td>Desktop</td>\n",
       "      <td>not happy</td>\n",
       "    </tr>\n",
       "  </tbody>\n",
       "</table>\n",
       "</div>"
      ],
      "text/plain": [
       "       User_ID                                        Description  \\\n",
       "26002  id36328  Interesting Hotel ... The location and views o...   \n",
       "38708  id49034  great location \\nbest service\\nthe suite are v...   \n",
       "25695  id36021  Lucky to have stayed there during our visit to...   \n",
       "38818  id49144  After reading a few of the reviews of this hot...   \n",
       "29811  id40137  We love boutique hotels until we stayed at the...   \n",
       "\n",
       "           Browser_Used Device_Used Is_Response  \n",
       "26002              Edge     Desktop   not happy  \n",
       "38708     Google Chrome      Mobile       happy  \n",
       "25695   Mozilla Firefox      Mobile       happy  \n",
       "38818  InternetExplorer      Mobile       happy  \n",
       "29811           Firefox     Desktop   not happy  "
      ]
     },
     "execution_count": 27,
     "metadata": {},
     "output_type": "execute_result"
    }
   ],
   "source": [
    "data.sample(5)"
   ]
  },
  {
   "cell_type": "markdown",
   "metadata": {
    "id": "8l8nCONvaupM"
   },
   "source": [
    "Below is a snippet code to output the data descriptively"
   ]
  },
  {
   "cell_type": "code",
   "execution_count": 28,
   "metadata": {
    "ExecuteTime": {
     "end_time": "2019-01-12T02:28:27.373486Z",
     "start_time": "2019-01-12T02:28:27.163266Z"
    },
    "colab": {
     "base_uri": "https://localhost:8080/",
     "height": 168
    },
    "executionInfo": {
     "elapsed": 1214,
     "status": "ok",
     "timestamp": 1601447512474,
     "user": {
      "displayName": "dharani prasad",
      "photoUrl": "https://lh3.googleusercontent.com/a-/AOh14GgN9_kPLO1MCS96ISn_bJdMbJdcdYoeu8PTzadI=s64",
      "userId": "16107398116480146260"
     },
     "user_tz": -330
    },
    "id": "vkTqUOqZGDHl",
    "outputId": "ccd2c77b-ed73-4056-dd08-6e7f6616b4e4"
   },
   "outputs": [
    {
     "data": {
      "text/html": [
       "<div>\n",
       "<style scoped>\n",
       "    .dataframe tbody tr th:only-of-type {\n",
       "        vertical-align: middle;\n",
       "    }\n",
       "\n",
       "    .dataframe tbody tr th {\n",
       "        vertical-align: top;\n",
       "    }\n",
       "\n",
       "    .dataframe thead th {\n",
       "        text-align: right;\n",
       "    }\n",
       "</style>\n",
       "<table border=\"1\" class=\"dataframe\">\n",
       "  <thead>\n",
       "    <tr style=\"text-align: right;\">\n",
       "      <th></th>\n",
       "      <th>User_ID</th>\n",
       "      <th>Description</th>\n",
       "      <th>Browser_Used</th>\n",
       "      <th>Device_Used</th>\n",
       "      <th>Is_Response</th>\n",
       "    </tr>\n",
       "  </thead>\n",
       "  <tbody>\n",
       "    <tr>\n",
       "      <th>count</th>\n",
       "      <td>38932</td>\n",
       "      <td>38932</td>\n",
       "      <td>38932</td>\n",
       "      <td>38932</td>\n",
       "      <td>38932</td>\n",
       "    </tr>\n",
       "    <tr>\n",
       "      <th>unique</th>\n",
       "      <td>38932</td>\n",
       "      <td>38932</td>\n",
       "      <td>11</td>\n",
       "      <td>3</td>\n",
       "      <td>2</td>\n",
       "    </tr>\n",
       "    <tr>\n",
       "      <th>top</th>\n",
       "      <td>id24042</td>\n",
       "      <td>After a disastourous check in I.E.given the wr...</td>\n",
       "      <td>Firefox</td>\n",
       "      <td>Desktop</td>\n",
       "      <td>happy</td>\n",
       "    </tr>\n",
       "    <tr>\n",
       "      <th>freq</th>\n",
       "      <td>1</td>\n",
       "      <td>1</td>\n",
       "      <td>7367</td>\n",
       "      <td>15026</td>\n",
       "      <td>26521</td>\n",
       "    </tr>\n",
       "  </tbody>\n",
       "</table>\n",
       "</div>"
      ],
      "text/plain": [
       "        User_ID                                        Description  \\\n",
       "count     38932                                              38932   \n",
       "unique    38932                                              38932   \n",
       "top     id24042  After a disastourous check in I.E.given the wr...   \n",
       "freq          1                                                  1   \n",
       "\n",
       "       Browser_Used Device_Used Is_Response  \n",
       "count         38932       38932       38932  \n",
       "unique           11           3           2  \n",
       "top         Firefox     Desktop       happy  \n",
       "freq           7367       15026       26521  "
      ]
     },
     "execution_count": 28,
     "metadata": {},
     "output_type": "execute_result"
    }
   ],
   "source": [
    "data.describe()"
   ]
  },
  {
   "cell_type": "markdown",
   "metadata": {
    "id": "_hhanrDUa2gw"
   },
   "source": [
    "Below is a snippet code to output the count of target value"
   ]
  },
  {
   "cell_type": "code",
   "execution_count": 29,
   "metadata": {
    "ExecuteTime": {
     "end_time": "2019-01-12T02:28:28.080686Z",
     "start_time": "2019-01-12T02:28:28.069031Z"
    },
    "colab": {
     "base_uri": "https://localhost:8080/",
     "height": 72
    },
    "executionInfo": {
     "elapsed": 2248,
     "status": "ok",
     "timestamp": 1601447519665,
     "user": {
      "displayName": "dharani prasad",
      "photoUrl": "https://lh3.googleusercontent.com/a-/AOh14GgN9_kPLO1MCS96ISn_bJdMbJdcdYoeu8PTzadI=s64",
      "userId": "16107398116480146260"
     },
     "user_tz": -330
    },
    "id": "4zl7RNS8GDIG",
    "outputId": "b8167e47-edd2-4c65-846d-3a357ddda680"
   },
   "outputs": [
    {
     "data": {
      "text/plain": [
       "happy        26521\n",
       "not happy    12411\n",
       "Name: Is_Response, dtype: int64"
      ]
     },
     "execution_count": 29,
     "metadata": {},
     "output_type": "execute_result"
    }
   ],
   "source": [
    "data['Is_Response'].value_counts()"
   ]
  },
  {
   "cell_type": "markdown",
   "metadata": {
    "id": "vihuVKhZGDKt"
   },
   "source": [
    "In this project, we'll only use the column of `Description` and `Is_Response` only. \n",
    "\n",
    "We'll also store all of the `Description` data to a variable named `attribute` and the `Is_Response` as `target`."
   ]
  },
  {
   "cell_type": "markdown",
   "metadata": {
    "id": "M2X2A2sRGDK8"
   },
   "source": [
    "# Preprocessing\n"
   ]
  },
  {
   "cell_type": "markdown",
   "metadata": {
    "id": "Jp66TON1biaf"
   },
   "source": [
    "## Column Handling\n",
    "\n",
    "First we will get rid of unused columns which are irrelevant for this project's Sentiment Analysis. Those columns are `User_ID`, `Browser_Used`, and `Device_Used`."
   ]
  },
  {
   "cell_type": "code",
   "execution_count": 30,
   "metadata": {
    "executionInfo": {
     "elapsed": 1213,
     "status": "ok",
     "timestamp": 1601447528968,
     "user": {
      "displayName": "dharani prasad",
      "photoUrl": "https://lh3.googleusercontent.com/a-/AOh14GgN9_kPLO1MCS96ISn_bJdMbJdcdYoeu8PTzadI=s64",
      "userId": "16107398116480146260"
     },
     "user_tz": -330
    },
    "id": "vJ31385-cBDX"
   },
   "outputs": [],
   "source": [
    "data.drop(columns = ['User_ID', 'Browser_Used', 'Device_Used'], inplace = True)"
   ]
  },
  {
   "cell_type": "markdown",
   "metadata": {
    "id": "GmY4RKLscEWd"
   },
   "source": [
    "Next we will change the `Is_Response` column values from \"happy\" and \"not happy\" to \"positive\" and \"negative\""
   ]
  },
  {
   "cell_type": "code",
   "execution_count": 31,
   "metadata": {
    "colab": {
     "base_uri": "https://localhost:8080/",
     "height": 138
    },
    "executionInfo": {
     "elapsed": 1100,
     "status": "ok",
     "timestamp": 1601447536767,
     "user": {
      "displayName": "dharani prasad",
      "photoUrl": "https://lh3.googleusercontent.com/a-/AOh14GgN9_kPLO1MCS96ISn_bJdMbJdcdYoeu8PTzadI=s64",
      "userId": "16107398116480146260"
     },
     "user_tz": -330
    },
    "id": "dvYLTjhbc7gO",
    "outputId": "53f1ead1-e851-4a7c-dea0-ea199ef5bfb4"
   },
   "outputs": [
    {
     "data": {
      "text/html": [
       "<div>\n",
       "<style scoped>\n",
       "    .dataframe tbody tr th:only-of-type {\n",
       "        vertical-align: middle;\n",
       "    }\n",
       "\n",
       "    .dataframe tbody tr th {\n",
       "        vertical-align: top;\n",
       "    }\n",
       "\n",
       "    .dataframe thead th {\n",
       "        text-align: right;\n",
       "    }\n",
       "</style>\n",
       "<table border=\"1\" class=\"dataframe\">\n",
       "  <thead>\n",
       "    <tr style=\"text-align: right;\">\n",
       "      <th></th>\n",
       "      <th>Description</th>\n",
       "      <th>Is_Response</th>\n",
       "    </tr>\n",
       "  </thead>\n",
       "  <tbody>\n",
       "    <tr>\n",
       "      <th>29121</th>\n",
       "      <td>Very nice and excellent located hotel, really ...</td>\n",
       "      <td>positive</td>\n",
       "    </tr>\n",
       "    <tr>\n",
       "      <th>13065</th>\n",
       "      <td>My kids, my dog and myself stayed here while m...</td>\n",
       "      <td>negative</td>\n",
       "    </tr>\n",
       "    <tr>\n",
       "      <th>35033</th>\n",
       "      <td>Very comfortable clean rooms at a very reasona...</td>\n",
       "      <td>positive</td>\n",
       "    </tr>\n",
       "  </tbody>\n",
       "</table>\n",
       "</div>"
      ],
      "text/plain": [
       "                                             Description Is_Response\n",
       "29121  Very nice and excellent located hotel, really ...    positive\n",
       "13065  My kids, my dog and myself stayed here while m...    negative\n",
       "35033  Very comfortable clean rooms at a very reasona...    positive"
      ]
     },
     "execution_count": 31,
     "metadata": {},
     "output_type": "execute_result"
    }
   ],
   "source": [
    "data['Is_Response'] = data['Is_Response'].map({'happy' : 'positive', 'not happy' : 'negative'})\n",
    "\n",
    "data.sample(3)"
   ]
  },
  {
   "cell_type": "markdown",
   "metadata": {
    "id": "zd1830MpGDXL"
   },
   "source": [
    "## Text Cleaning\n",
    "\n",
    "We will clean the text by removing any punctuations. In addition, this steps also removes any twitter username (@username...) and websites link (http... and www...). The processes above are done using Regular Expression method to search for matching texts.\n"
   ]
  },
  {
   "cell_type": "code",
   "execution_count": 32,
   "metadata": {
    "ExecuteTime": {
     "end_time": "2019-01-12T07:44:52.829360Z",
     "start_time": "2019-01-12T07:44:52.814348Z"
    },
    "executionInfo": {
     "elapsed": 6303,
     "status": "ok",
     "timestamp": 1601447548457,
     "user": {
      "displayName": "dharani prasad",
      "photoUrl": "https://lh3.googleusercontent.com/a-/AOh14GgN9_kPLO1MCS96ISn_bJdMbJdcdYoeu8PTzadI=s64",
      "userId": "16107398116480146260"
     },
     "user_tz": -330
    },
    "id": "fFcPeo3HGDXR"
   },
   "outputs": [],
   "source": [
    "import re\n",
    "from bs4 import BeautifulSoup\n",
    "from nltk.tokenize import WordPunctTokenizer\n",
    "\n",
    "tokenizer = WordPunctTokenizer()\n",
    "twitter_handle = r'@[A-Za-z0-9_]+'                         # remove twitter handle (@username)\n",
    "url_handle = r'http[^ ]+'                                  # remove website URLs that start with 'https?://'\n",
    "combined_handle = r'|'.join((twitter_handle, url_handle))  # join\n",
    "www_handle = r'www.[^ ]+'                                  # remove website URLs that start with 'www.'\n",
    "punctuation_handle = r'\\W+'"
   ]
  },
  {
   "cell_type": "code",
   "execution_count": 34,
   "metadata": {
    "executionInfo": {
     "elapsed": 1421,
     "status": "ok",
     "timestamp": 1601447610474,
     "user": {
      "displayName": "dharani prasad",
      "photoUrl": "https://lh3.googleusercontent.com/a-/AOh14GgN9_kPLO1MCS96ISn_bJdMbJdcdYoeu8PTzadI=s64",
      "userId": "16107398116480146260"
     },
     "user_tz": -330
    },
    "id": "7ndrL7yNhxk4"
   },
   "outputs": [],
   "source": [
    "\n",
    "stopwords = set(pd.read_csv('stopword_en.txt', sep='\\n', header=0).stopword)"
   ]
  },
  {
   "cell_type": "markdown",
   "metadata": {
    "id": "Z_KA6x_nh0mn"
   },
   "source": [
    "Define a function called `process_text` to process the text using the methods listed above. "
   ]
  },
  {
   "cell_type": "code",
   "execution_count": 35,
   "metadata": {
    "ExecuteTime": {
     "end_time": "2019-01-12T07:45:30.662530Z",
     "start_time": "2019-01-12T07:45:30.652253Z"
    },
    "code_folding": [],
    "executionInfo": {
     "elapsed": 1040,
     "status": "ok",
     "timestamp": 1601447625833,
     "user": {
      "displayName": "dharani prasad",
      "photoUrl": "https://lh3.googleusercontent.com/a-/AOh14GgN9_kPLO1MCS96ISn_bJdMbJdcdYoeu8PTzadI=s64",
      "userId": "16107398116480146260"
     },
     "user_tz": -330
    },
    "id": "LU_mpn5xGDYG"
   },
   "outputs": [],
   "source": [
    "def process_text(text):\n",
    "    soup = BeautifulSoup(text, 'lxml')\n",
    "    souped = soup.get_text()\n",
    "\n",
    "    try:\n",
    "        text = souped.decode(\"utf-8-sig\").replace(u\"\\ufffd\", \"?\")\n",
    "    except:\n",
    "        text = souped\n",
    "\n",
    "    cleaned_text = re.sub(punctuation_handle, \" \",(re.sub(www_handle, '', re.sub(combined_handle, '', text)).lower()))\n",
    "    cleaned_text = ' '.join([word for word in cleaned_text.split() if word not in stopwords])\n",
    "\n",
    "    return (\" \".join([word for word in tokenizer.tokenize(cleaned_text) if len(word) > 1])).strip()"
   ]
  },
  {
   "cell_type": "markdown",
   "metadata": {
    "id": "zzD7QUlCieUn"
   },
   "source": [
    "Below is an input-based example to test the above text cleaning method. Try it~"
   ]
  },
  {
   "cell_type": "code",
   "execution_count": 36,
   "metadata": {
    "ExecuteTime": {
     "end_time": "2019-01-12T07:45:31.359526Z",
     "start_time": "2019-01-12T07:45:31.355559Z"
    },
    "colab": {
     "base_uri": "https://localhost:8080/",
     "height": 53
    },
    "executionInfo": {
     "elapsed": 1042,
     "status": "ok",
     "timestamp": 1601447641086,
     "user": {
      "displayName": "dharani prasad",
      "photoUrl": "https://lh3.googleusercontent.com/a-/AOh14GgN9_kPLO1MCS96ISn_bJdMbJdcdYoeu8PTzadI=s64",
      "userId": "16107398116480146260"
     },
     "user_tz": -330
    },
    "id": "cvint9L5GDYp",
    "outputId": "23cb5a18-b7df-4654-fdcd-3dbdef65ee8a"
   },
   "outputs": [
    {
     "data": {
      "text/plain": [
       "'hahaha apakah saya ingin pergi pada tanggal 15 bulan februari besok tidak karena hari kemarin suka main'"
      ]
     },
     "execution_count": 36,
     "metadata": {},
     "output_type": "execute_result"
    }
   ],
   "source": [
    "example_text = \"hahaha if above a ----'-' www.adasd apakah SAYA ingin pergi pada tanggal 15 bulan februari besok ? tidak karena hari kemarin @twitter suka main https://www.twitter.com\"\n",
    "\n",
    "process_text(example_text)"
   ]
  },
  {
   "cell_type": "markdown",
   "metadata": {
    "id": "hV-aW8M4rnnQ"
   },
   "source": [
    "Then we will create a new column in our data named `clean_text` to store the cleaned text. \n",
    "\n",
    "We will process every row in variable `attribute`, which is the raw text from the .csv data. Then concate the new attribute `clean_text` to the original data file."
   ]
  },
  {
   "cell_type": "code",
   "execution_count": 37,
   "metadata": {
    "ExecuteTime": {
     "end_time": "2019-01-12T04:52:30.859912Z",
     "start_time": "2019-01-12T04:52:12.479129Z"
    },
    "colab": {
     "base_uri": "https://localhost:8080/",
     "height": 198
    },
    "executionInfo": {
     "elapsed": 16742,
     "status": "ok",
     "timestamp": 1601447662118,
     "user": {
      "displayName": "dharani prasad",
      "photoUrl": "https://lh3.googleusercontent.com/a-/AOh14GgN9_kPLO1MCS96ISn_bJdMbJdcdYoeu8PTzadI=s64",
      "userId": "16107398116480146260"
     },
     "user_tz": -330
    },
    "id": "EQ-B4aA8GDa-",
    "outputId": "cd30563f-d2e9-4013-fcdb-171758e42a78"
   },
   "outputs": [
    {
     "data": {
      "text/html": [
       "<div>\n",
       "<style scoped>\n",
       "    .dataframe tbody tr th:only-of-type {\n",
       "        vertical-align: middle;\n",
       "    }\n",
       "\n",
       "    .dataframe tbody tr th {\n",
       "        vertical-align: top;\n",
       "    }\n",
       "\n",
       "    .dataframe thead th {\n",
       "        text-align: right;\n",
       "    }\n",
       "</style>\n",
       "<table border=\"1\" class=\"dataframe\">\n",
       "  <thead>\n",
       "    <tr style=\"text-align: right;\">\n",
       "      <th></th>\n",
       "      <th>Description</th>\n",
       "      <th>Is_Response</th>\n",
       "      <th>clean_text</th>\n",
       "    </tr>\n",
       "  </thead>\n",
       "  <tbody>\n",
       "    <tr>\n",
       "      <th>28690</th>\n",
       "      <td>This was a great hotel....Marriott does not di...</td>\n",
       "      <td>positive</td>\n",
       "      <td>great hotel marriott does disappoint adults sm...</td>\n",
       "    </tr>\n",
       "    <tr>\n",
       "      <th>9631</th>\n",
       "      <td>We stayed at this hotel in April ---- and had ...</td>\n",
       "      <td>negative</td>\n",
       "      <td>stayed hotel april booked hotwire website chos...</td>\n",
       "    </tr>\n",
       "    <tr>\n",
       "      <th>3220</th>\n",
       "      <td>We stayed for a few nights on business. We lov...</td>\n",
       "      <td>positive</td>\n",
       "      <td>stayed nights business loved don compare ve in...</td>\n",
       "    </tr>\n",
       "    <tr>\n",
       "      <th>32532</th>\n",
       "      <td>Surprised with the quality of the room given t...</td>\n",
       "      <td>positive</td>\n",
       "      <td>surprised quality room given rates compared ho...</td>\n",
       "    </tr>\n",
       "    <tr>\n",
       "      <th>4970</th>\n",
       "      <td>We stayed at the Raffaello on our way to O'Har...</td>\n",
       "      <td>positive</td>\n",
       "      <td>stayed raffaello way hare party adult children...</td>\n",
       "    </tr>\n",
       "  </tbody>\n",
       "</table>\n",
       "</div>"
      ],
      "text/plain": [
       "                                             Description Is_Response  \\\n",
       "28690  This was a great hotel....Marriott does not di...    positive   \n",
       "9631   We stayed at this hotel in April ---- and had ...    negative   \n",
       "3220   We stayed for a few nights on business. We lov...    positive   \n",
       "32532  Surprised with the quality of the room given t...    positive   \n",
       "4970   We stayed at the Raffaello on our way to O'Har...    positive   \n",
       "\n",
       "                                              clean_text  \n",
       "28690  great hotel marriott does disappoint adults sm...  \n",
       "9631   stayed hotel april booked hotwire website chos...  \n",
       "3220   stayed nights business loved don compare ve in...  \n",
       "32532  surprised quality room given rates compared ho...  \n",
       "4970   stayed raffaello way hare party adult children...  "
      ]
     },
     "execution_count": 37,
     "metadata": {},
     "output_type": "execute_result"
    }
   ],
   "source": [
    "cleaned_text = []\n",
    "\n",
    "for text in data.Description:\n",
    "    cleaned_text.append(process_text(text))\n",
    "\n",
    "clean_text = pd.DataFrame({'clean_text' : cleaned_text})\n",
    "data = pd.concat([data, clean_text], axis = 1)\n",
    "\n",
    "data.sample(5)"
   ]
  },
  {
   "cell_type": "markdown",
   "metadata": {
    "id": "wgknLcBFcJAO"
   },
   "source": [
    "## Splitting Train Data\n",
    "\n",
    "Here we are going set the variable `attribute` to hold the movie review texts, and variable `target` to hold the conclusion [ positive ; negative ] of the moview review"
   ]
  },
  {
   "cell_type": "code",
   "execution_count": 38,
   "metadata": {
    "ExecuteTime": {
     "end_time": "2019-01-12T02:29:35.560355Z",
     "start_time": "2019-01-12T02:29:34.449802Z"
    },
    "executionInfo": {
     "elapsed": 4269,
     "status": "ok",
     "timestamp": 1601447670375,
     "user": {
      "displayName": "dharani prasad",
      "photoUrl": "https://lh3.googleusercontent.com/a-/AOh14GgN9_kPLO1MCS96ISn_bJdMbJdcdYoeu8PTzadI=s64",
      "userId": "16107398116480146260"
     },
     "user_tz": -330
    },
    "id": "GlDVoO5sGDNd"
   },
   "outputs": [],
   "source": [
    "from sklearn.model_selection import train_test_split\n",
    "\n",
    "attribute = data.clean_text\n",
    "target = data.Is_Response"
   ]
  },
  {
   "cell_type": "markdown",
   "metadata": {
    "id": "R-15Apv3GDTQ"
   },
   "source": [
    "We will split entire data set into four variables; `attribute_train`, `attribute_test`, `target_train`, `target_test`, with the ratio of 9:1 ( train : test ). \n",
    "\n",
    "The ratio is then converted to `0.1` as a parameter to tell the test data size is gonna be 10% data of the train data\n",
    "\n",
    "After that, we display the four variables to see how much data is distributed amongst the variables."
   ]
  },
  {
   "cell_type": "code",
   "execution_count": 39,
   "metadata": {
    "ExecuteTime": {
     "end_time": "2019-01-12T02:42:13.095947Z",
     "start_time": "2019-01-12T02:42:13.052219Z"
    },
    "colab": {
     "base_uri": "https://localhost:8080/",
     "height": 90
    },
    "executionInfo": {
     "elapsed": 5165,
     "status": "ok",
     "timestamp": 1601447675085,
     "user": {
      "displayName": "dharani prasad",
      "photoUrl": "https://lh3.googleusercontent.com/a-/AOh14GgN9_kPLO1MCS96ISn_bJdMbJdcdYoeu8PTzadI=s64",
      "userId": "16107398116480146260"
     },
     "user_tz": -330
    },
    "id": "Bkn4xOrJGDUV",
    "outputId": "c908324e-8656-497f-d107-691873d826c9"
   },
   "outputs": [
    {
     "name": "stdout",
     "output_type": "stream",
     "text": [
      "attribute_train : 35038\n",
      "attribute_test  : 3894\n",
      "target_train : 35038\n",
      "target_test  : 3894\n"
     ]
    }
   ],
   "source": [
    "attribute_train, attribute_test, target_train, target_test = train_test_split(attribute, target, test_size = 0.1, random_state = 225)\n",
    "\n",
    "print('attribute_train :', len(attribute_train))\n",
    "print('attribute_test  :', len(attribute_test))\n",
    "print('target_train :', len(target_train))\n",
    "print('target_test  :', len(target_test))"
   ]
  },
  {
   "cell_type": "markdown",
   "metadata": {
    "id": "4AhgutQtGDe9"
   },
   "source": [
    "# Training"
   ]
  },
  {
   "cell_type": "markdown",
   "metadata": {
    "id": "Sxsr271btF_6"
   },
   "source": [
    "## Defining the Model\n",
    "\n",
    "We will train the model of this project by Vectorizing using **TF-IDF** and the Classifier using **Logistic Regression** \n",
    "\n",
    "We choose so because it is ...  *(insert reason here)*\n",
    "\n",
    "Other options for Vectorizers are `CountVectorizer` and `HashingVectorizer`. And as for Classifiers, there are : \n",
    "\n",
    "1.   sklearn.ensemble `RandomForestClassifier`,\n",
    "2.   sklearn.naive_bayes `BernoulliNB`,\n",
    "3.   sklearn.svm `SVC`"
   ]
  },
  {
   "cell_type": "code",
   "execution_count": 40,
   "metadata": {
    "ExecuteTime": {
     "end_time": "2019-01-12T03:56:09.911553Z",
     "start_time": "2019-01-12T03:56:09.907616Z"
    },
    "executionInfo": {
     "elapsed": 1084,
     "status": "ok",
     "timestamp": 1601447680434,
     "user": {
      "displayName": "dharani prasad",
      "photoUrl": "https://lh3.googleusercontent.com/a-/AOh14GgN9_kPLO1MCS96ISn_bJdMbJdcdYoeu8PTzadI=s64",
      "userId": "16107398116480146260"
     },
     "user_tz": -330
    },
    "id": "AmOeBYilGDfU"
   },
   "outputs": [],
   "source": [
    "from sklearn.feature_extraction.text import TfidfVectorizer\n",
    "from sklearn.linear_model import LogisticRegression\n",
    "\n",
    "tvec = TfidfVectorizer()\n",
    "clf2 = LogisticRegression()"
   ]
  },
  {
   "cell_type": "markdown",
   "metadata": {
    "id": "Oj7LN5UFGDhF"
   },
   "source": [
    "## Create Model Pipeline\n",
    "\n",
    "The purpose of the pipeline is to assemble several steps that can be cross-validated together while setting different parameters. Here, the parameters are our Vectorizer and Classifier."
   ]
  },
  {
   "cell_type": "code",
   "execution_count": 41,
   "metadata": {
    "ExecuteTime": {
     "end_time": "2019-01-11T19:26:00.894924Z",
     "start_time": "2019-01-11T19:26:00.891324Z"
    },
    "colab": {
     "base_uri": "https://localhost:8080/",
     "height": 435
    },
    "executionInfo": {
     "elapsed": 5996,
     "status": "ok",
     "timestamp": 1601447690521,
     "user": {
      "displayName": "dharani prasad",
      "photoUrl": "https://lh3.googleusercontent.com/a-/AOh14GgN9_kPLO1MCS96ISn_bJdMbJdcdYoeu8PTzadI=s64",
      "userId": "16107398116480146260"
     },
     "user_tz": -330
    },
    "id": "Os7lqezaGDhM",
    "outputId": "f15bd152-add0-42bb-b528-b2e9cf45f255",
    "scrolled": true
   },
   "outputs": [
    {
     "name": "stderr",
     "output_type": "stream",
     "text": [
      "C:\\Users\\user\\Anaconda3\\lib\\site-packages\\sklearn\\linear_model\\logistic.py:432: FutureWarning: Default solver will be changed to 'lbfgs' in 0.22. Specify a solver to silence this warning.\n",
      "  FutureWarning)\n"
     ]
    },
    {
     "data": {
      "text/plain": [
       "Pipeline(memory=None,\n",
       "         steps=[('vectorizer',\n",
       "                 TfidfVectorizer(analyzer='word', binary=False,\n",
       "                                 decode_error='strict',\n",
       "                                 dtype=<class 'numpy.float64'>,\n",
       "                                 encoding='utf-8', input='content',\n",
       "                                 lowercase=True, max_df=1.0, max_features=None,\n",
       "                                 min_df=1, ngram_range=(1, 1), norm='l2',\n",
       "                                 preprocessor=None, smooth_idf=True,\n",
       "                                 stop_words=None, strip_accents=None,\n",
       "                                 sublinear_tf=False,\n",
       "                                 token_pattern='(?u)\\\\b\\\\w\\\\w+\\\\b',\n",
       "                                 tokenizer=None, use_idf=True,\n",
       "                                 vocabulary=None)),\n",
       "                ('classifier',\n",
       "                 LogisticRegression(C=1.0, class_weight=None, dual=False,\n",
       "                                    fit_intercept=True, intercept_scaling=1,\n",
       "                                    l1_ratio=None, max_iter=100,\n",
       "                                    multi_class='warn', n_jobs=None,\n",
       "                                    penalty='l2', random_state=None,\n",
       "                                    solver='warn', tol=0.0001, verbose=0,\n",
       "                                    warm_start=False))],\n",
       "         verbose=False)"
      ]
     },
     "execution_count": 41,
     "metadata": {},
     "output_type": "execute_result"
    }
   ],
   "source": [
    "from sklearn.pipeline import Pipeline\n",
    "\n",
    "model = Pipeline([('vectorizer',tvec)\n",
    "                 ,('classifier',clf2)])\n",
    "\n",
    "model.fit(attribute_train, target_train)"
   ]
  },
  {
   "cell_type": "code",
   "execution_count": 51,
   "metadata": {
    "colab": {
     "base_uri": "https://localhost:8080/",
     "height": 449
    },
    "executionInfo": {
     "elapsed": 1090,
     "status": "error",
     "timestamp": 1601448363769,
     "user": {
      "displayName": "dharani prasad",
      "photoUrl": "https://lh3.googleusercontent.com/a-/AOh14GgN9_kPLO1MCS96ISn_bJdMbJdcdYoeu8PTzadI=s64",
      "userId": "16107398116480146260"
     },
     "user_tz": -330
    },
    "id": "mBeJydaYu5mc",
    "outputId": "1ada25f1-da31-42ee-fb8c-6b6ba5a5ed5b"
   },
   "outputs": [
    {
     "name": "stdout",
     "output_type": "stream",
     "text": [
      "Recognizing...\n",
      "service good service\n"
     ]
    }
   ],
   "source": [
    "import speech_recognition as sr \n",
    "import os \n",
    "from pydub import AudioSegment\n",
    "from pydub.silence import split_on_silence\n",
    "\n",
    "r = sr.Recognizer()\n",
    "with sr.Microphone() as source:\n",
    "    # read the audio data from the default microphone\n",
    "    audio_data = r.record(source, duration=5)\n",
    "    print(\"Recognizing...\")\n",
    "    # convert speech to text\n",
    "    text = r.recognize_google(audio_data)\n",
    "    \n",
    "print(text)"
   ]
  },
  {
   "cell_type": "code",
   "execution_count": 53,
   "metadata": {
    "colab": {
     "base_uri": "https://localhost:8080/",
     "height": 35
    },
    "executionInfo": {
     "elapsed": 1331,
     "status": "ok",
     "timestamp": 1601447746161,
     "user": {
      "displayName": "dharani prasad",
      "photoUrl": "https://lh3.googleusercontent.com/a-/AOh14GgN9_kPLO1MCS96ISn_bJdMbJdcdYoeu8PTzadI=s64",
      "userId": "16107398116480146260"
     },
     "user_tz": -330
    },
    "id": "G1XevTA3_bX5",
    "outputId": "73e06e56-1cc7-41cf-ed46-cc0141450a3d"
   },
   "outputs": [
    {
     "name": "stdout",
     "output_type": "stream",
     "text": [
      "['positive']\n"
     ]
    }
   ],
   "source": [
    "example_text = [text]\n",
    "example_result = model.predict(example_text)\n",
    "print(example_result)"
   ]
  },
  {
   "cell_type": "code",
   "execution_count": 63,
   "metadata": {},
   "outputs": [],
   "source": [
    "import numpy as np"
   ]
  },
  {
   "cell_type": "code",
   "execution_count": 59,
   "metadata": {},
   "outputs": [],
   "source": [
    "ts = example_result.tostring()"
   ]
  },
  {
   "cell_type": "code",
   "execution_count": 64,
   "metadata": {},
   "outputs": [
    {
     "name": "stdout",
     "output_type": "stream",
     "text": [
      "The string representation of input array :  ['positive']\n",
      "<class 'str'>\n"
     ]
    }
   ],
   "source": [
    "\n",
    "ts = np.array_str(example_result) \n",
    "print (\"The string representation of input array : \", ts) \n",
    "print(type(ts)) \n"
   ]
  },
  {
   "cell_type": "code",
   "execution_count": 65,
   "metadata": {},
   "outputs": [
    {
     "data": {
      "text/plain": [
       "1"
      ]
     },
     "execution_count": 65,
     "metadata": {},
     "output_type": "execute_result"
    }
   ],
   "source": [
    "from gtts import gTTS \n",
    "import os \n",
    "\n",
    "\n",
    "# Language in which you want to convert \n",
    "language = 'en'\n",
    "\n",
    "\n",
    "myobj = gTTS(text=ts, lang=language, slow=False) \n",
    "\n",
    "\n",
    "myobj.save(\"demo.mp3\") \n",
    "\n",
    "# Playing the converted file \n",
    "os.system(\"mpg321 demo.mp3\") \n"
   ]
  },
  {
   "cell_type": "code",
   "execution_count": null,
   "metadata": {},
   "outputs": [],
   "source": []
  },
  {
   "cell_type": "code",
   "execution_count": null,
   "metadata": {},
   "outputs": [],
   "source": []
  },
  {
   "cell_type": "markdown",
   "metadata": {
    "id": "SblpE83zGDif"
   },
   "source": [
    "# Testing"
   ]
  },
  {
   "cell_type": "code",
   "execution_count": 54,
   "metadata": {
    "ExecuteTime": {
     "end_time": "2019-01-12T02:09:31.637123Z",
     "start_time": "2019-01-12T02:09:31.631356Z"
    },
    "colab": {
     "base_uri": "https://localhost:8080/",
     "height": 54
    },
    "executionInfo": {
     "elapsed": 1042,
     "status": "ok",
     "timestamp": 1601447765739,
     "user": {
      "displayName": "dharani prasad",
      "photoUrl": "https://lh3.googleusercontent.com/a-/AOh14GgN9_kPLO1MCS96ISn_bJdMbJdcdYoeu8PTzadI=s64",
      "userId": "16107398116480146260"
     },
     "user_tz": -330
    },
    "id": "s_uoYvp-GDip",
    "outputId": "31a99873-0bca-4f14-d94f-a49690624b74"
   },
   "outputs": [
    {
     "data": {
      "text/plain": [
       "array([[ 989,  147],\n",
       "       [ 334, 2424]], dtype=int64)"
      ]
     },
     "execution_count": 54,
     "metadata": {},
     "output_type": "execute_result"
    }
   ],
   "source": [
    "from sklearn.metrics import confusion_matrix\n",
    "\n",
    "verdict = model.predict(attribute_test)\n",
    "\n",
    "confusion_matrix(verdict, target_test)"
   ]
  },
  {
   "cell_type": "markdown",
   "metadata": {
    "id": "jqjeYTd-35A5"
   },
   "source": [
    "Display the accuracy we got by comparing the test result of `verdict` and actual result of `target_test`"
   ]
  },
  {
   "cell_type": "code",
   "execution_count": 55,
   "metadata": {
    "colab": {
     "base_uri": "https://localhost:8080/",
     "height": 72
    },
    "executionInfo": {
     "elapsed": 961,
     "status": "ok",
     "timestamp": 1601447771636,
     "user": {
      "displayName": "dharani prasad",
      "photoUrl": "https://lh3.googleusercontent.com/a-/AOh14GgN9_kPLO1MCS96ISn_bJdMbJdcdYoeu8PTzadI=s64",
      "userId": "16107398116480146260"
     },
     "user_tz": -330
    },
    "id": "BanqV-XXXGtD",
    "outputId": "5b6638e7-2df3-492f-90ac-5851bf9f7e80"
   },
   "outputs": [
    {
     "name": "stdout",
     "output_type": "stream",
     "text": [
      "Accuracy :  0.8764766307139189\n",
      "Precision :  0.8858545002516267\n",
      "Recall :  0.8764766307139189\n"
     ]
    }
   ],
   "source": [
    "from sklearn.metrics import accuracy_score, precision_score, recall_score\n",
    "\n",
    "print(\"Accuracy : \", accuracy_score(verdict, target_test))\n",
    "print(\"Precision : \", precision_score(verdict, target_test, average = 'weighted'))\n",
    "print(\"Recall : \", recall_score(verdict, target_test, average = 'weighted'))"
   ]
  },
  {
   "cell_type": "code",
   "execution_count": null,
   "metadata": {
    "id": "oZ4DeMu1ubmc"
   },
   "outputs": [],
   "source": []
  }
 ],
 "metadata": {
  "colab": {
   "collapsed_sections": [],
   "name": "Hotel Review Sentiment Analysis.ipynb",
   "provenance": [],
   "toc_visible": true
  },
  "hide_input": false,
  "kernelspec": {
   "display_name": "Python 3",
   "language": "python",
   "name": "python3"
  },
  "language_info": {
   "codemirror_mode": {
    "name": "ipython",
    "version": 3
   },
   "file_extension": ".py",
   "mimetype": "text/x-python",
   "name": "python",
   "nbconvert_exporter": "python",
   "pygments_lexer": "ipython3",
   "version": "3.7.4"
  },
  "toc": {
   "base_numbering": 1,
   "nav_menu": {},
   "number_sections": true,
   "sideBar": true,
   "skip_h1_title": false,
   "title_cell": "Table of Contents",
   "title_sidebar": "Contents",
   "toc_cell": false,
   "toc_position": {},
   "toc_section_display": true,
   "toc_window_display": false
  },
  "varInspector": {
   "cols": {
    "lenName": 16,
    "lenType": 16,
    "lenVar": 40
   },
   "kernels_config": {
    "python": {
     "delete_cmd_postfix": "",
     "delete_cmd_prefix": "del ",
     "library": "var_list.py",
     "varRefreshCmd": "print(var_dic_list())"
    },
    "r": {
     "delete_cmd_postfix": ") ",
     "delete_cmd_prefix": "rm(",
     "library": "var_list.r",
     "varRefreshCmd": "cat(var_dic_list()) "
    }
   },
   "types_to_exclude": [
    "module",
    "function",
    "builtin_function_or_method",
    "instance",
    "_Feature"
   ],
   "window_display": false
  }
 },
 "nbformat": 4,
 "nbformat_minor": 1
}
